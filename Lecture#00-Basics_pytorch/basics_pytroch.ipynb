{
 "cells": [
  {
   "cell_type": "code",
   "execution_count": 1,
   "metadata": {},
   "outputs": [],
   "source": [
    "import torch\n",
    "import torch.nn as nn\n",
    "import torch.nn.functional as F"
   ]
  },
  {
   "cell_type": "code",
   "execution_count": 2,
   "metadata": {},
   "outputs": [
    {
     "name": "stdout",
     "output_type": "stream",
     "text": [
      "torch.Size([3, 4])\n",
      "2\n",
      "12\n"
     ]
    }
   ],
   "source": [
    "a = torch.tensor([[1,3,4,5],\n",
    "                  [9,8,6,2],\n",
    "                  [10,11,3,2]])\n",
    "print(a.shape)\n",
    "print(a.ndim)\n",
    "print(a.nelement())"
   ]
  },
  {
   "cell_type": "code",
   "execution_count": 7,
   "metadata": {},
   "outputs": [
    {
     "name": "stdout",
     "output_type": "stream",
     "text": [
      "torch.Size([2, 2, 3])\n",
      "3\n"
     ]
    }
   ],
   "source": [
    "b = torch.tensor([[[1,2,4],\n",
    "                   [3,6,5]],\n",
    "                   [[8,4,2],\n",
    "                    [9,4,3]]\n",
    "                    ])\n",
    "print(b.shape)\n",
    "print(b.ndim)"
   ]
  },
  {
   "cell_type": "code",
   "execution_count": 16,
   "metadata": {},
   "outputs": [
    {
     "name": "stdout",
     "output_type": "stream",
     "text": [
      "------torch.Size([10, 7])------\n",
      " ------torch.Size([7])-------\n",
      "\n"
     ]
    },
    {
     "data": {
      "text/plain": [
       "tensor([[0.0688, 0.2332, 0.5680, 0.8508, 0.8073, 0.6217, 0.1648],\n",
       "        [0.0688, 0.2332, 0.5680, 0.8508, 0.8073, 0.6217, 0.1648],\n",
       "        [0.0688, 0.2332, 0.5680, 0.8508, 0.8073, 0.6217, 0.1648],\n",
       "        [0.0688, 0.2332, 0.5680, 0.8508, 0.8073, 0.6217, 0.1648],\n",
       "        [0.0688, 0.2332, 0.5680, 0.8508, 0.8073, 0.6217, 0.1648],\n",
       "        [0.0688, 0.2332, 0.5680, 0.8508, 0.8073, 0.6217, 0.1648],\n",
       "        [0.0688, 0.2332, 0.5680, 0.8508, 0.8073, 0.6217, 0.1648],\n",
       "        [0.0688, 0.2332, 0.5680, 0.8508, 0.8073, 0.6217, 0.1648],\n",
       "        [0.0688, 0.2332, 0.5680, 0.8508, 0.8073, 0.6217, 0.1648],\n",
       "        [0.0688, 0.2332, 0.5680, 0.8508, 0.8073, 0.6217, 0.1648]])"
      ]
     },
     "execution_count": 16,
     "metadata": {},
     "output_type": "execute_result"
    }
   ],
   "source": [
    "c = torch.zeros(10,7)\n",
    "b = torch.rand(7)\n",
    "print(f'------{c.shape}------\\n ------{b.shape}-------\\n')\n",
    "c + b\n"
   ]
  },
  {
   "cell_type": "code",
   "execution_count": 17,
   "metadata": {},
   "outputs": [
    {
     "data": {
      "text/plain": [
       "tensor([[0.3790, 0.1875],\n",
       "        [0.3790, 0.1875],\n",
       "        [0.3790, 0.1875],\n",
       "        [0.3790, 0.1875]])"
      ]
     },
     "execution_count": 17,
     "metadata": {},
     "output_type": "execute_result"
    }
   ],
   "source": [
    "c = torch.ones(4,2)\n",
    "b = torch.rand(2)\n",
    "c * b"
   ]
  },
  {
   "cell_type": "code",
   "execution_count": 20,
   "metadata": {},
   "outputs": [
    {
     "data": {
      "text/plain": [
       "tensor([[2, 3, 4],\n",
       "        [6, 7, 8]])"
      ]
     },
     "execution_count": 20,
     "metadata": {},
     "output_type": "execute_result"
    }
   ],
   "source": [
    "a = torch.tensor([[1,2,3],\n",
    "                  [4,5,6]])\n",
    "b = torch.tensor([[1,1,1],\n",
    "                  [2,2,2]]) \n",
    "a + b"
   ]
  },
  {
   "cell_type": "code",
   "execution_count": 21,
   "metadata": {},
   "outputs": [
    {
     "data": {
      "text/plain": [
       "tensor([[ 1,  2,  3],\n",
       "        [ 8, 10, 12]])"
      ]
     },
     "execution_count": 21,
     "metadata": {},
     "output_type": "execute_result"
    }
   ],
   "source": [
    "a * b"
   ]
  },
  {
   "cell_type": "code",
   "execution_count": 23,
   "metadata": {},
   "outputs": [
    {
     "name": "stdout",
     "output_type": "stream",
     "text": [
      "tensor([[ 6, 12],\n",
      "        [15, 30]]) \n",
      " tensor([[ 6, 12],\n",
      "        [15, 30]]) \n"
     ]
    }
   ],
   "source": [
    "c = torch.matmul(a,b.T)\n",
    "d = a @ b.transpose(0,1)\n",
    "print(f'{c} \\n {d} ')\n"
   ]
  },
  {
   "cell_type": "code",
   "execution_count": 27,
   "metadata": {},
   "outputs": [
    {
     "name": "stdout",
     "output_type": "stream",
     "text": [
      "tensor([[[0., 0., 0., 0., 0., 0.],\n",
      "         [0., 0., 0., 0., 0., 0.],\n",
      "         [0., 0., 0., 0., 0., 0.],\n",
      "         [0., 0., 0., 0., 0., 0.],\n",
      "         [0., 0., 0., 0., 0., 0.]],\n",
      "\n",
      "        [[0., 0., 0., 0., 0., 0.],\n",
      "         [0., 0., 0., 0., 0., 0.],\n",
      "         [0., 0., 0., 0., 0., 0.],\n",
      "         [0., 0., 0., 0., 0., 0.],\n",
      "         [0., 0., 0., 0., 0., 0.]]])\n",
      "tensor([[0., 0., 0.],\n",
      "        [0., 0., 0.],\n",
      "        [0., 0., 0.],\n",
      "        [0., 0., 0.],\n",
      "        [0., 0., 0.],\n",
      "        [0., 0., 0.],\n",
      "        [0., 0., 0.],\n",
      "        [0., 0., 0.],\n",
      "        [0., 0., 0.],\n",
      "        [0., 0., 0.],\n",
      "        [0., 0., 0.],\n",
      "        [0., 0., 0.],\n",
      "        [0., 0., 0.],\n",
      "        [0., 0., 0.],\n",
      "        [0., 0., 0.],\n",
      "        [0., 0., 0.],\n",
      "        [0., 0., 0.],\n",
      "        [0., 0., 0.],\n",
      "        [0., 0., 0.],\n",
      "        [0., 0., 0.]])\n"
     ]
    }
   ],
   "source": [
    "a = torch.zeros(10,6)\n",
    "print(a.view(2,5,6))\n",
    "print(a.view(20,-1))"
   ]
  },
  {
   "cell_type": "code",
   "execution_count": 28,
   "metadata": {},
   "outputs": [
    {
     "ename": "RuntimeError",
     "evalue": "Expected size for first two dimensions of batch2 tensor to be: [3, 6] but got: [3, 5].",
     "output_type": "error",
     "traceback": [
      "\u001b[1;31m---------------------------------------------------------------------------\u001b[0m",
      "\u001b[1;31mRuntimeError\u001b[0m                              Traceback (most recent call last)",
      "Cell \u001b[1;32mIn[28], line 3\u001b[0m\n\u001b[0;32m      1\u001b[0m a \u001b[38;5;241m=\u001b[39m torch\u001b[38;5;241m.\u001b[39mrand(\u001b[38;5;241m3\u001b[39m,\u001b[38;5;241m5\u001b[39m,\u001b[38;5;241m6\u001b[39m)\n\u001b[0;32m      2\u001b[0m b \u001b[38;5;241m=\u001b[39m torch\u001b[38;5;241m.\u001b[39mrand(\u001b[38;5;241m3\u001b[39m,\u001b[38;5;241m5\u001b[39m,\u001b[38;5;241m6\u001b[39m)\n\u001b[1;32m----> 3\u001b[0m \u001b[38;5;28mprint\u001b[39m(\u001b[43ma\u001b[49m\u001b[43m \u001b[49m\u001b[38;5;241;43m@\u001b[39;49m\u001b[43m \u001b[49m\u001b[43mb\u001b[49m)\n",
      "\u001b[1;31mRuntimeError\u001b[0m: Expected size for first two dimensions of batch2 tensor to be: [3, 6] but got: [3, 5]."
     ]
    }
   ],
   "source": [
    "a = torch.rand(3,5,6)\n",
    "b = torch.rand(3,5,6)\n",
    "print(a @ b)\n",
    "# to show that i need to fit the last dim of the first tensor with the -2 dim of the second tensor"
   ]
  },
  {
   "cell_type": "code",
   "execution_count": 30,
   "metadata": {},
   "outputs": [
    {
     "name": "stdout",
     "output_type": "stream",
     "text": [
      "torch.Size([3, 5, 5])\n"
     ]
    }
   ],
   "source": [
    "c = a @ b.transpose(-1,-2)\n",
    "print(c.shape)"
   ]
  },
  {
   "cell_type": "code",
   "execution_count": 34,
   "metadata": {},
   "outputs": [
    {
     "data": {
      "text/plain": [
       "tensor([[[1.5860, 1.5001],\n",
       "         [1.5860, 1.5001],\n",
       "         [1.5860, 1.5001],\n",
       "         [1.5860, 1.5001],\n",
       "         [1.5860, 1.5001],\n",
       "         [1.5860, 1.5001],\n",
       "         [1.5860, 1.5001],\n",
       "         [1.5860, 1.5001],\n",
       "         [1.5860, 1.5001],\n",
       "         [1.5860, 1.5001]],\n",
       "\n",
       "        [[1.5860, 1.5001],\n",
       "         [1.5860, 1.5001],\n",
       "         [1.5860, 1.5001],\n",
       "         [1.5860, 1.5001],\n",
       "         [1.5860, 1.5001],\n",
       "         [1.5860, 1.5001],\n",
       "         [1.5860, 1.5001],\n",
       "         [1.5860, 1.5001],\n",
       "         [1.5860, 1.5001],\n",
       "         [1.5860, 1.5001]],\n",
       "\n",
       "        [[1.5860, 1.5001],\n",
       "         [1.5860, 1.5001],\n",
       "         [1.5860, 1.5001],\n",
       "         [1.5860, 1.5001],\n",
       "         [1.5860, 1.5001],\n",
       "         [1.5860, 1.5001],\n",
       "         [1.5860, 1.5001],\n",
       "         [1.5860, 1.5001],\n",
       "         [1.5860, 1.5001],\n",
       "         [1.5860, 1.5001]]])"
      ]
     },
     "execution_count": 34,
     "metadata": {},
     "output_type": "execute_result"
    }
   ],
   "source": [
    "a = torch.ones(3,10,2)\n",
    "b = torch.rand(1,2)\n",
    "a + b"
   ]
  },
  {
   "cell_type": "code",
   "execution_count": 35,
   "metadata": {},
   "outputs": [],
   "source": [
    "b = b.view(1,1,2)"
   ]
  },
  {
   "cell_type": "code",
   "execution_count": 36,
   "metadata": {},
   "outputs": [
    {
     "data": {
      "text/plain": [
       "tensor([[[1.5860, 1.5001],\n",
       "         [1.5860, 1.5001],\n",
       "         [1.5860, 1.5001],\n",
       "         [1.5860, 1.5001],\n",
       "         [1.5860, 1.5001],\n",
       "         [1.5860, 1.5001],\n",
       "         [1.5860, 1.5001],\n",
       "         [1.5860, 1.5001],\n",
       "         [1.5860, 1.5001],\n",
       "         [1.5860, 1.5001]],\n",
       "\n",
       "        [[1.5860, 1.5001],\n",
       "         [1.5860, 1.5001],\n",
       "         [1.5860, 1.5001],\n",
       "         [1.5860, 1.5001],\n",
       "         [1.5860, 1.5001],\n",
       "         [1.5860, 1.5001],\n",
       "         [1.5860, 1.5001],\n",
       "         [1.5860, 1.5001],\n",
       "         [1.5860, 1.5001],\n",
       "         [1.5860, 1.5001]],\n",
       "\n",
       "        [[1.5860, 1.5001],\n",
       "         [1.5860, 1.5001],\n",
       "         [1.5860, 1.5001],\n",
       "         [1.5860, 1.5001],\n",
       "         [1.5860, 1.5001],\n",
       "         [1.5860, 1.5001],\n",
       "         [1.5860, 1.5001],\n",
       "         [1.5860, 1.5001],\n",
       "         [1.5860, 1.5001],\n",
       "         [1.5860, 1.5001]]])"
      ]
     },
     "execution_count": 36,
     "metadata": {},
     "output_type": "execute_result"
    }
   ],
   "source": [
    "a + b"
   ]
  },
  {
   "cell_type": "code",
   "execution_count": 38,
   "metadata": {},
   "outputs": [
    {
     "name": "stdout",
     "output_type": "stream",
     "text": [
      "torch.Size([1, 4, 3])\n",
      "torch.Size([4, 3])\n"
     ]
    }
   ],
   "source": [
    "c = torch.zeros(4,3)\n",
    "print(c.unsqueeze(0).shape)\n",
    "print(c.squeeze(0).shape)"
   ]
  },
  {
   "cell_type": "code",
   "execution_count": 40,
   "metadata": {},
   "outputs": [
    {
     "name": "stdout",
     "output_type": "stream",
     "text": [
      "torch.Size([2, 3, 1, 5])\n"
     ]
    }
   ],
   "source": [
    "a = torch.zeros(3,2,5,1)\n",
    "print(a.permute(1,0,3,2).shape)"
   ]
  }
 ],
 "metadata": {
  "kernelspec": {
   "display_name": "Python 3",
   "language": "python",
   "name": "python3"
  },
  "language_info": {
   "codemirror_mode": {
    "name": "ipython",
    "version": 3
   },
   "file_extension": ".py",
   "mimetype": "text/x-python",
   "name": "python",
   "nbconvert_exporter": "python",
   "pygments_lexer": "ipython3",
   "version": "3.12.9"
  }
 },
 "nbformat": 4,
 "nbformat_minor": 2
}
